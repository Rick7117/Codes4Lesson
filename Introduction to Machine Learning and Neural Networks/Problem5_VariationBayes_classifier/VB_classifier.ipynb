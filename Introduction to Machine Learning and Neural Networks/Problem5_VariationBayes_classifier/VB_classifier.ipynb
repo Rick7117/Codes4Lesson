{
 "cells": [
  {
   "cell_type": "code",
   "execution_count": 6,
   "metadata": {},
   "outputs": [
    {
     "data": {
      "text/html": [
       "<div>\n",
       "<style scoped>\n",
       "    .dataframe tbody tr th:only-of-type {\n",
       "        vertical-align: middle;\n",
       "    }\n",
       "\n",
       "    .dataframe tbody tr th {\n",
       "        vertical-align: top;\n",
       "    }\n",
       "\n",
       "    .dataframe thead th {\n",
       "        text-align: right;\n",
       "    }\n",
       "</style>\n",
       "<table border=\"1\" class=\"dataframe\">\n",
       "  <thead>\n",
       "    <tr style=\"text-align: right;\">\n",
       "      <th></th>\n",
       "      <th>Message ID</th>\n",
       "      <th>Subject</th>\n",
       "      <th>Message</th>\n",
       "      <th>Spam/Ham</th>\n",
       "      <th>Date</th>\n",
       "    </tr>\n",
       "  </thead>\n",
       "  <tbody>\n",
       "    <tr>\n",
       "      <th>0</th>\n",
       "      <td>0</td>\n",
       "      <td>christmas tree farm pictures</td>\n",
       "      <td>NaN</td>\n",
       "      <td>ham</td>\n",
       "      <td>1999-12-10</td>\n",
       "    </tr>\n",
       "    <tr>\n",
       "      <th>1</th>\n",
       "      <td>1</td>\n",
       "      <td>vastar resources , inc .</td>\n",
       "      <td>gary , production from the high island larger ...</td>\n",
       "      <td>ham</td>\n",
       "      <td>1999-12-13</td>\n",
       "    </tr>\n",
       "    <tr>\n",
       "      <th>2</th>\n",
       "      <td>2</td>\n",
       "      <td>calpine daily gas nomination</td>\n",
       "      <td>- calpine daily gas nomination 1 . doc</td>\n",
       "      <td>ham</td>\n",
       "      <td>1999-12-14</td>\n",
       "    </tr>\n",
       "    <tr>\n",
       "      <th>3</th>\n",
       "      <td>3</td>\n",
       "      <td>re : issue</td>\n",
       "      <td>fyi - see note below - already done .\\nstella\\...</td>\n",
       "      <td>ham</td>\n",
       "      <td>1999-12-14</td>\n",
       "    </tr>\n",
       "    <tr>\n",
       "      <th>4</th>\n",
       "      <td>4</td>\n",
       "      <td>meter 7268 nov allocation</td>\n",
       "      <td>fyi .\\n- - - - - - - - - - - - - - - - - - - -...</td>\n",
       "      <td>ham</td>\n",
       "      <td>1999-12-14</td>\n",
       "    </tr>\n",
       "  </tbody>\n",
       "</table>\n",
       "</div>"
      ],
      "text/plain": [
       "   Message ID                       Subject  \\\n",
       "0           0  christmas tree farm pictures   \n",
       "1           1      vastar resources , inc .   \n",
       "2           2  calpine daily gas nomination   \n",
       "3           3                    re : issue   \n",
       "4           4     meter 7268 nov allocation   \n",
       "\n",
       "                                             Message Spam/Ham        Date  \n",
       "0                                                NaN      ham  1999-12-10  \n",
       "1  gary , production from the high island larger ...      ham  1999-12-13  \n",
       "2             - calpine daily gas nomination 1 . doc      ham  1999-12-14  \n",
       "3  fyi - see note below - already done .\\nstella\\...      ham  1999-12-14  \n",
       "4  fyi .\\n- - - - - - - - - - - - - - - - - - - -...      ham  1999-12-14  "
      ]
     },
     "execution_count": 6,
     "metadata": {},
     "output_type": "execute_result"
    }
   ],
   "source": [
    "import pandas as pd\n",
    "import os\n",
    "from sklearn.model_selection import train_test_split\n",
    "from sklearn.feature_extraction.text import TfidfVectorizer\n",
    "\n",
    "# 下载并加载数据\n",
    "data_url = \"http://www.aueb.gr/users/ion/data/enron-spam/\"\n",
    "# 假设已经下载并解压到本地\n",
    "spam_data = pd.read_csv(\"enron_spam_data.csv\")\n",
    "spam_data.head()"
   ]
  },
  {
   "cell_type": "code",
   "execution_count": 7,
   "metadata": {},
   "outputs": [],
   "source": [
    "# 数据预处理\n",
    "def preprocess_text(text):\n",
    "    # 清理和标准化文本\n",
    "    text = text.lower()  # 转换为小写\n",
    "    # 进一步清理，例如去掉标点符号等\n",
    "    return text\n",
    "\n",
    "spam_data['Message'] = spam_data['Message'].astype(str)\n",
    "spam_data['cleaned_text'] = spam_data['Message'].apply(preprocess_text)\n",
    "\n",
    "# 特征提取\n",
    "vectorizer = TfidfVectorizer(stop_words='english')\n",
    "X = vectorizer.fit_transform(spam_data['cleaned_text'])\n",
    "y = spam_data['Spam/Ham']  # 假设有 'label' 列表示垃圾邮件或非垃圾邮件\n",
    "\n",
    "# 划分训练集和测试集\n",
    "X_train, X_test, y_train, y_test = train_test_split(X, y, test_size=0.2, random_state=42)"
   ]
  },
  {
   "cell_type": "code",
   "execution_count": 10,
   "metadata": {},
   "outputs": [
    {
     "name": "stdout",
     "output_type": "stream",
     "text": [
      "Accuracy: 0.9840\n",
      "Classification Report (with 4 decimal places):\n",
      "{'ham': {'precision': 0.9829, 'recall': 0.9841, 'f1-score': 0.9835, 'support': 3276.0}, 'spam': {'precision': 0.985, 'recall': 0.9839, 'f1-score': 0.9844, 'support': 3468.0}, 'accuracy': 0.9839857651245552, 'macro avg': {'precision': 0.984, 'recall': 0.984, 'f1-score': 0.984, 'support': 6744.0}, 'weighted avg': {'precision': 0.984, 'recall': 0.984, 'f1-score': 0.984, 'support': 6744.0}}\n"
     ]
    }
   ],
   "source": [
    "import numpy as np\n",
    "from sklearn.naive_bayes import MultinomialNB\n",
    "\n",
    "# 使用朴素贝叶斯作为基础模型\n",
    "model = MultinomialNB()\n",
    "model.fit(X_train, y_train)\n",
    "\n",
    "# 预测\n",
    "y_pred = model.predict(X_test)\n",
    "\n",
    "# 评估模型\n",
    "from sklearn.metrics import accuracy_score, classification_report\n",
    "\n",
    "accuracy = accuracy_score(y_test, y_pred)\n",
    "print(f\"Accuracy: {accuracy:.4f}\")\n",
    "from sklearn.metrics import classification_report\n",
    "\n",
    "# 生成 classification_report 字典格式\n",
    "report = classification_report(y_test, y_pred, output_dict=True)\n",
    "\n",
    "# 修改每个值为四位小数\n",
    "for label in report:\n",
    "    if label != 'accuracy':  # 'accuracy' 可能不是数值类型\n",
    "        for metric in report[label]:\n",
    "            report[label][metric] = round(report[label][metric], 4)\n",
    "\n",
    "# 输出修改后的 classification_report\n",
    "print(\"Classification Report (with 4 decimal places):\")\n",
    "print(report)\n",
    "\n",
    "# print(classification_report(y_test, y_pred))\n"
   ]
  },
  {
   "cell_type": "code",
   "execution_count": 9,
   "metadata": {},
   "outputs": [
    {
     "data": {
      "image/png": "[encoded data removed]",
      "text/plain": [
       "<Figure size 600x600 with 1 Axes>"
      ]
     },
     "metadata": {},
     "output_type": "display_data"
    }
   ],
   "source": [
    "import matplotlib.pyplot as plt\n",
    "from sklearn.metrics import confusion_matrix, ConfusionMatrixDisplay\n",
    "\n",
    "# 混淆矩阵\n",
    "cm = confusion_matrix(y_test, y_pred)\n",
    "\n",
    "# 设置自定义标签\n",
    "labels = ['ham', 'spam']\n",
    "\n",
    "# 绘制混淆矩阵并设置配色与标签\n",
    "disp = ConfusionMatrixDisplay(confusion_matrix=cm, display_labels=labels)\n",
    "\n",
    "# 更改配色方案\n",
    "fig, ax = plt.subplots(figsize=(6, 6))  # 设置大小\n",
    "disp.plot(cmap='coolwarm', values_format='d', colorbar=False, ax=ax)\n",
    "\n",
    "# 修改中间数字的字体样式\n",
    "for i in range(cm.shape[0]):  # 遍历矩阵的每个位置\n",
    "    for j in range(cm.shape[1]):\n",
    "        # 访问每个文本对象\n",
    "        text = disp.text_[i, j]\n",
    "        text.set_fontweight('bold')  # 设置粗体\n",
    "        text.set_color('black')      # 设置字体颜色为黑色\n",
    "\n",
    "# 设置标题\n",
    "plt.title('Confusion Matrix - Spam vs Ham')\n",
    "\n",
    "# 显示图形\n",
    "plt.show()\n"
   ]
  }
 ],
 "metadata": {
  "kernelspec": {
   "display_name": "base",
   "language": "python",
   "name": "python3"
  },
  "language_info": {
   "codemirror_mode": {
    "name": "ipython",
    "version": 3
   },
   "file_extension": ".py",
   "mimetype": "text/x-python",
   "name": "python",
   "nbconvert_exporter": "python",
   "pygments_lexer": "ipython3",
   "version": "3.12.3"
  }
 },
 "nbformat": 4,
 "nbformat_minor": 2
}
